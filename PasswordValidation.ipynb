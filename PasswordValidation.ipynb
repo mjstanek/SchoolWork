{
  "nbformat": 4,
  "nbformat_minor": 0,
  "metadata": {
    "colab": {
      "provenance": []
    },
    "kernelspec": {
      "name": "python3",
      "display_name": "Python 3"
    },
    "language_info": {
      "name": "python"
    }
  },
  "cells": [
    {
      "cell_type": "code",
      "execution_count": null,
      "metadata": {
        "id": "XgmsNVTCVXMu"
      },
      "outputs": [],
      "source": [
        "import re\n",
        "\n",
        "def passwordchecker(password):\n",
        "  global errorcount\n",
        "  global errormessage\n",
        "  errorcount = 0\n",
        "  errormessage = \"\"\n",
        "  if password == \"\":\n",
        "    print(\"Your password is blank. Please submit a password to be be checked for validity.\")\n",
        "  else:\n",
        "    lengthchecker(password)\n",
        "    lowercasechecker(password)\n",
        "    uppercasechecker(password)\n",
        "    numberchecker(password)\n",
        "    specialcharacterchecker(password)\n",
        "    if errorcount == 0:\n",
        "      print(\"Your password is valid.\")\n",
        "    else:\n",
        "      print(f'Your password, {password}, has {errorcount} error(s). Please review the following error(s) and try again.\\n')\n",
        "      print(errormessage)\n",
        "\n",
        "def lengthchecker(password):\n",
        "  global errorcount\n",
        "  global errormessage\n",
        "  length = len(password)\n",
        "  if length < 8:\n",
        "    errormessage = (f'- Your password is only {length} characters. Valid passwords must be more than 8 characters long.\\n')\n",
        "    errorcount += 1\n",
        "\n",
        "def lowercasechecker(password):\n",
        "  global errorcount\n",
        "  global errormessage\n",
        "  if not re.search(\"[a-z]\", password):\n",
        "    errormessage += '- Your password must contain at least one lowercase letter.\\n'\n",
        "    errorcount += 1\n",
        "\n",
        "def uppercasechecker(password):\n",
        "  global errorcount\n",
        "  global errormessage\n",
        "  if not re.search(\"[A-Z]\", password):\n",
        "    errormessage += \"- Your password must contain at least one uppercase letter.\\n\"\n",
        "    errorcount += 1\n",
        "\n",
        "def numberchecker(password):\n",
        "  global errorcount\n",
        "  global errormessage\n",
        "  if not re.search(\"[0-9]\", password):\n",
        "    errormessage += \"- Your password must contain at least one number.\\n\"\n",
        "    errorcount += 1\n",
        "\n",
        "def specialcharacterchecker(password):\n",
        "  global errorcount\n",
        "  global errormessage\n",
        "  i = 0\n",
        "  for x in password:\n",
        "    if x == \"_\" or x == \"@\" or x == \"$\":\n",
        "      i += 1\n",
        "  if i == 0:\n",
        "    errormessage += \"- Your password must contain at least one of the following special characters: _ @ $\\n\"\n",
        "    errorcount += 1"
      ]
    },
    {
      "cell_type": "code",
      "source": [
        "example1 = \"#\"\n",
        "example2 = \"pswd\"\n",
        "example3 = \"password\"\n",
        "example4 = \"Password\"\n",
        "example5 = \"Password123\"\n",
        "example6 = \"P@ssword123\"\n",
        "\n",
        "passwordchecker(\"\")\n",
        "passwordchecker(example1)\n",
        "passwordchecker(example2)\n",
        "passwordchecker(example3)\n",
        "passwordchecker(example4)\n",
        "passwordchecker(example5)\n",
        "passwordchecker(example6)\n"
      ],
      "metadata": {
        "colab": {
          "base_uri": "https://localhost:8080/"
        },
        "id": "KYV7RbGwNqjp",
        "outputId": "74bc3101-d64c-43fa-dd8c-239f859ce63b"
      },
      "execution_count": null,
      "outputs": [
        {
          "output_type": "stream",
          "name": "stdout",
          "text": [
            "Your password is blank. Please submit a password to be be checked for validity.\n",
            "Your password, #, has 5 error(s). Please review the following error(s) and try again.\n",
            "\n",
            "- Your password is only 1 characters. Valid passwords must be more than 8 characters long.\n",
            "- Your password must contain at least one lowercase letter.\n",
            "- Your password must contain at least one uppercase letter.\n",
            "- Your password must contain at least one number.\n",
            "- Your password must contain at least one of the following special characters: _ @ $\n",
            "\n",
            "Your password, pswd, has 4 error(s). Please review the following error(s) and try again.\n",
            "\n",
            "- Your password is only 4 characters. Valid passwords must be more than 8 characters long.\n",
            "- Your password must contain at least one uppercase letter.\n",
            "- Your password must contain at least one number.\n",
            "- Your password must contain at least one of the following special characters: _ @ $\n",
            "\n",
            "Your password, password, has 3 error(s). Please review the following error(s) and try again.\n",
            "\n",
            "- Your password must contain at least one uppercase letter.\n",
            "- Your password must contain at least one number.\n",
            "- Your password must contain at least one of the following special characters: _ @ $\n",
            "\n",
            "Your password, Password, has 2 error(s). Please review the following error(s) and try again.\n",
            "\n",
            "- Your password must contain at least one number.\n",
            "- Your password must contain at least one of the following special characters: _ @ $\n",
            "\n",
            "Your password, Password123, has 1 error(s). Please review the following error(s) and try again.\n",
            "\n",
            "- Your password must contain at least one of the following special characters: _ @ $\n",
            "\n",
            "Your password is valid.\n"
          ]
        }
      ]
    }
  ]
}